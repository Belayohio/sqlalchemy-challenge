{
 "cells": [
  {
   "cell_type": "code",
   "execution_count": 1,
   "id": "a5bb555f-a755-4888-8c52-86b53d03be66",
   "metadata": {},
   "outputs": [],
   "source": [
    "%matplotlib inline\n",
    "from matplotlib import style\n",
    "style.use('fivethirtyeight')\n",
    "import matplotlib.pyplot as plt\n",
    "\n",
    "import numpy as np\n",
    "import pandas as pd\n",
    "import datetime as dt\n",
    "\n",
    "# Python SQL toolkit and Object Relational Mapper\n",
    "import sqlalchemy\n",
    "from sqlalchemy.ext.automap import automap_base\n",
    "from sqlalchemy.orm import Session\n",
    "from sqlalchemy import create_engine, func,inspect"
   ]
  },
  {
   "cell_type": "code",
   "execution_count": 2,
   "id": "7c48d171-b8ee-4848-a009-0e8205a04c94",
   "metadata": {},
   "outputs": [],
   "source": [
    "# create engine to hawaii.sqlite\n",
    "engine = create_engine(\"sqlite:///Resources/hawaii.sqlite\")"
   ]
  },
  {
   "cell_type": "code",
   "execution_count": 3,
   "id": "5859c611-1fa9-40e7-b45a-3322347199d1",
   "metadata": {},
   "outputs": [],
   "source": [
    "# reflect an existing database into a new model\n",
    "Base = automap_base()\n",
    "Base.prepare(autoload_with=engine)\n",
    "\n"
   ]
  },
  {
   "cell_type": "code",
   "execution_count": 4,
   "id": "8049aaeb-0d22-4b5f-b477-dd51513af45a",
   "metadata": {},
   "outputs": [
    {
     "data": {
      "text/plain": [
       "['station', 'measurement']"
      ]
     },
     "execution_count": 4,
     "metadata": {},
     "output_type": "execute_result"
    }
   ],
   "source": [
    "# reflect the tables\n",
    "Base.classes.keys()"
   ]
  },
  {
   "cell_type": "code",
   "execution_count": 5,
   "id": "e0b04da6-cfe1-415a-b312-af2ecce25a50",
   "metadata": {},
   "outputs": [],
   "source": [
    "# Save references to each table\n",
    "Measurement = Base.classes.measurement\n",
    "Station = Base.classes.station"
   ]
  },
  {
   "cell_type": "code",
   "execution_count": 6,
   "id": "915138bf-8c2e-4ff6-800e-7f1766407958",
   "metadata": {},
   "outputs": [],
   "source": [
    "# Create our session (link) from Python to the DB\n",
    "session = Session(bind=engine)"
   ]
  },
  {
   "cell_type": "markdown",
   "id": "0c7a0b2d-52cb-47d1-9c08-650f9a383ffe",
   "metadata": {},
   "source": [
    "# Eploratory Preciptation Analysis"
   ]
  },
  {
   "cell_type": "code",
   "execution_count": 7,
   "id": "7829bfb8-e3af-45e1-9946-78f9287a0339",
   "metadata": {},
   "outputs": [
    {
     "data": {
      "text/plain": [
       "['measurement', 'station']"
      ]
     },
     "execution_count": 7,
     "metadata": {},
     "output_type": "execute_result"
    }
   ],
   "source": [
    "inspector = inspect(engine)\n",
    "inspector.get_table_names()"
   ]
  },
  {
   "cell_type": "code",
   "execution_count": 8,
   "id": "ffa76543-cc71-4da3-bdcf-12f6a8c46056",
   "metadata": {},
   "outputs": [
    {
     "data": {
      "text/plain": [
       "[{'name': 'id',\n",
       "  'type': INTEGER(),\n",
       "  'nullable': False,\n",
       "  'default': None,\n",
       "  'primary_key': 1},\n",
       " {'name': 'station',\n",
       "  'type': TEXT(),\n",
       "  'nullable': True,\n",
       "  'default': None,\n",
       "  'primary_key': 0},\n",
       " {'name': 'date',\n",
       "  'type': TEXT(),\n",
       "  'nullable': True,\n",
       "  'default': None,\n",
       "  'primary_key': 0},\n",
       " {'name': 'prcp',\n",
       "  'type': FLOAT(),\n",
       "  'nullable': True,\n",
       "  'default': None,\n",
       "  'primary_key': 0},\n",
       " {'name': 'tobs',\n",
       "  'type': FLOAT(),\n",
       "  'nullable': True,\n",
       "  'default': None,\n",
       "  'primary_key': 0}]"
      ]
     },
     "execution_count": 8,
     "metadata": {},
     "output_type": "execute_result"
    }
   ],
   "source": [
    "inspector.get_columns(\"measurement\")"
   ]
  },
  {
   "cell_type": "code",
   "execution_count": 9,
   "id": "8c115423-5db9-4705-b2a9-b12e031d192d",
   "metadata": {},
   "outputs": [
    {
     "data": {
      "text/plain": [
       "[{'name': 'id',\n",
       "  'type': INTEGER(),\n",
       "  'nullable': False,\n",
       "  'default': None,\n",
       "  'primary_key': 1},\n",
       " {'name': 'station',\n",
       "  'type': TEXT(),\n",
       "  'nullable': True,\n",
       "  'default': None,\n",
       "  'primary_key': 0},\n",
       " {'name': 'name',\n",
       "  'type': TEXT(),\n",
       "  'nullable': True,\n",
       "  'default': None,\n",
       "  'primary_key': 0},\n",
       " {'name': 'latitude',\n",
       "  'type': FLOAT(),\n",
       "  'nullable': True,\n",
       "  'default': None,\n",
       "  'primary_key': 0},\n",
       " {'name': 'longitude',\n",
       "  'type': FLOAT(),\n",
       "  'nullable': True,\n",
       "  'default': None,\n",
       "  'primary_key': 0},\n",
       " {'name': 'elevation',\n",
       "  'type': FLOAT(),\n",
       "  'nullable': True,\n",
       "  'default': None,\n",
       "  'primary_key': 0}]"
      ]
     },
     "execution_count": 9,
     "metadata": {},
     "output_type": "execute_result"
    }
   ],
   "source": [
    "inspector.get_columns(\"station\")"
   ]
  },
  {
   "cell_type": "code",
   "execution_count": 10,
   "id": "029bc7e8-d454-4461-8d40-132233644206",
   "metadata": {},
   "outputs": [
    {
     "data": {
      "text/plain": [
       "('2017-08-23',)"
      ]
     },
     "execution_count": 10,
     "metadata": {},
     "output_type": "execute_result"
    }
   ],
   "source": [
    "# Find the most recent date in the data set.\n",
    "session.query(Measurement.date).order_by(Measurement.date.desc()).first()\n"
   ]
  },
  {
   "cell_type": "code",
   "execution_count": 11,
   "id": "d6dde183-29f4-492f-ae83-f729ab98e54d",
   "metadata": {},
   "outputs": [],
   "source": [
    "#print(dt.date.today())\n",
    "#print(dt.datetime.now(dt.)) #timestamp\n",
    "#print(dt.timedelta(days=365))"
   ]
  },
  {
   "cell_type": "code",
   "execution_count": 12,
   "id": "6245918e-623b-49fe-bf50-0d3451838345",
   "metadata": {},
   "outputs": [
    {
     "data": {
      "image/png": "[encoded data removed]",
      "text/plain": [
       "<Figure size 1000x400 with 1 Axes>"
      ]
     },
     "metadata": {},
     "output_type": "display_data"
    }
   ],
   "source": [
    "# Design a query to retrieve the last 12 months of precipitation data and plot the results.\n",
    "# the most recent date in the data set is ** 2017-08-23 **\n",
    "\n",
    "# Starting from the most recent data point in the database. \n",
    "most_recent_date = '2017-8-23'\n",
    "\n",
    "# Calculate the date one year from the last date in data set.\n",
    "last12_month=dt.date(2017,8,23) - dt.timedelta(days=365)\n",
    "\n",
    "# Perform a query to retrieve the data and precipitation scores\n",
    "prcp_data = session.query(Measurement).filter(Measurement.date < most_recent_date).filter(Measurement.date >=last12_month).\\\n",
    "filter(Measurement.prcp).all()\n",
    "Preciptation = []\n",
    "lists_last_12month=[]\n",
    "for prc in prcp_data:\n",
    "   Preciptation.append(prc.prcp)\n",
    "   lists_last_12month.append(prc.date)\n",
    "\n",
    "# Save the query results as a Pandas DataFrame. Explicitly set the column names\n",
    "prcp_df =pd.DataFrame({\"Preciptation\":Preciptation,\"Date\":lists_last_12month})\n",
    "prcp_df.head()\n",
    "\n",
    "# Sort the dataframe by date \"Preciptation\":prcp_data\n",
    "sorted_df=prcp_df.sort_values( by = \"Date\",ascending=True)\n",
    "sorted_df.head()\n",
    "\n",
    "# Use Pandas Plotting with Matplotlib to plot the data\n",
    "\n",
    "figure=plt.figure(figsize=(10,4))\n",
    "ticks = [\"2016-08-23\",\"2016-10-01\",\"2016-11-09\",\"2017-01-28\",\"2017-03-09\",\"2017-04-18\",\"2017-05-31\",\"2017-07-10\"]\n",
    "plt.style.use('fivethirtyeight')\n",
    "plt.plot(sorted_df[\"Date\"],sorted_df[\"Preciptation\"])\n",
    "plt.xlabel(\"Date\")\n",
    "plt.ylabel(\"Inches\")\n",
    "plt.xticks(ticks,rotation= 90)\n",
    "plt.legend(\"Preciptation\")\n",
    "plt.show()"
   ]
  },
  {
   "cell_type": "code",
   "execution_count": 13,
   "id": "af3ba068-4d0a-49cb-9738-0bf83a1d4131",
   "metadata": {},
   "outputs": [
    {
     "data": {
      "text/html": [
       "<div>\n",
       "<style scoped>\n",
       "    .dataframe tbody tr th:only-of-type {\n",
       "        vertical-align: middle;\n",
       "    }\n",
       "\n",
       "    .dataframe tbody tr th {\n",
       "        vertical-align: top;\n",
       "    }\n",
       "\n",
       "    .dataframe thead th {\n",
       "        text-align: right;\n",
       "    }\n",
       "</style>\n",
       "<table border=\"1\" class=\"dataframe\">\n",
       "  <thead>\n",
       "    <tr style=\"text-align: right;\">\n",
       "      <th></th>\n",
       "      <th>Preciptation</th>\n",
       "    </tr>\n",
       "  </thead>\n",
       "  <tbody>\n",
       "    <tr>\n",
       "      <th>count</th>\n",
       "      <td>1147.000000</td>\n",
       "    </tr>\n",
       "    <tr>\n",
       "      <th>mean</th>\n",
       "      <td>0.312363</td>\n",
       "    </tr>\n",
       "    <tr>\n",
       "      <th>std</th>\n",
       "      <td>0.576781</td>\n",
       "    </tr>\n",
       "    <tr>\n",
       "      <th>min</th>\n",
       "      <td>0.010000</td>\n",
       "    </tr>\n",
       "    <tr>\n",
       "      <th>25%</th>\n",
       "      <td>0.030000</td>\n",
       "    </tr>\n",
       "    <tr>\n",
       "      <th>50%</th>\n",
       "      <td>0.100000</td>\n",
       "    </tr>\n",
       "    <tr>\n",
       "      <th>75%</th>\n",
       "      <td>0.310000</td>\n",
       "    </tr>\n",
       "    <tr>\n",
       "      <th>max</th>\n",
       "      <td>6.700000</td>\n",
       "    </tr>\n",
       "  </tbody>\n",
       "</table>\n",
       "</div>"
      ],
      "text/plain": [
       "       Preciptation\n",
       "count   1147.000000\n",
       "mean       0.312363\n",
       "std        0.576781\n",
       "min        0.010000\n",
       "25%        0.030000\n",
       "50%        0.100000\n",
       "75%        0.310000\n",
       "max        6.700000"
      ]
     },
     "execution_count": 13,
     "metadata": {},
     "output_type": "execute_result"
    }
   ],
   "source": [
    "# Use Pandas to calculate the summary statistics for the precipitation data\n",
    "summry_statice=sorted_df[\"Preciptation\"].describe()\n",
    "\n",
    "# ****converting to dataframe ****\n",
    "summary_statistics_df = pd.DataFrame({\"Preciptation\":summry_statice})\n",
    "summary_statistics_df\n",
    "\n"
   ]
  },
  {
   "cell_type": "markdown",
   "id": "330968a5-267a-413d-b61f-423dc7f8dd13",
   "metadata": {},
   "source": [
    "# Exploratory Station Analysis"
   ]
  },
  {
   "cell_type": "code",
   "execution_count": 14,
   "id": "e36bfbb6-a937-4cc6-a43e-01227b47c10a",
   "metadata": {},
   "outputs": [
    {
     "data": {
      "text/plain": [
       "[(9,)]"
      ]
     },
     "execution_count": 14,
     "metadata": {},
     "output_type": "execute_result"
    }
   ],
   "source": [
    "# Design a query to calculate the total number of stations in the dataset\n",
    "session.query(func.count(Station.station)).all()"
   ]
  },
  {
   "cell_type": "code",
   "execution_count": 15,
   "id": "89a2a41b-c4a4-4cbe-8b69-e402f401e5db",
   "metadata": {},
   "outputs": [
    {
     "data": {
      "text/plain": [
       "[{'name': 'id',\n",
       "  'type': INTEGER(),\n",
       "  'nullable': False,\n",
       "  'default': None,\n",
       "  'primary_key': 1},\n",
       " {'name': 'station',\n",
       "  'type': TEXT(),\n",
       "  'nullable': True,\n",
       "  'default': None,\n",
       "  'primary_key': 0},\n",
       " {'name': 'name',\n",
       "  'type': TEXT(),\n",
       "  'nullable': True,\n",
       "  'default': None,\n",
       "  'primary_key': 0},\n",
       " {'name': 'latitude',\n",
       "  'type': FLOAT(),\n",
       "  'nullable': True,\n",
       "  'default': None,\n",
       "  'primary_key': 0},\n",
       " {'name': 'longitude',\n",
       "  'type': FLOAT(),\n",
       "  'nullable': True,\n",
       "  'default': None,\n",
       "  'primary_key': 0},\n",
       " {'name': 'elevation',\n",
       "  'type': FLOAT(),\n",
       "  'nullable': True,\n",
       "  'default': None,\n",
       "  'primary_key': 0}]"
      ]
     },
     "execution_count": 15,
     "metadata": {},
     "output_type": "execute_result"
    }
   ],
   "source": [
    "inspector.get_columns(\"station\")\n"
   ]
  },
  {
   "cell_type": "code",
   "execution_count": 16,
   "id": "da7698f5-bb7a-4acb-b858-4dbe9eac8979",
   "metadata": {},
   "outputs": [
    {
     "data": {
      "text/plain": [
       "[('USC00519281', 2772),\n",
       " ('USC00519397', 2724),\n",
       " ('USC00513117', 2709),\n",
       " ('USC00519523', 2669),\n",
       " ('USC00516128', 2612),\n",
       " ('USC00514830', 2202),\n",
       " ('USC00511918', 1979),\n",
       " ('USC00517948', 1372),\n",
       " ('USC00518838', 511)]"
      ]
     },
     "execution_count": 16,
     "metadata": {},
     "output_type": "execute_result"
    }
   ],
   "source": [
    "# Design a query to find the most active stations (i.e. which stations have the most rows?)\n",
    "# List the stations and their counts in descending order.\n",
    "session.query(Measurement.station,func.count(Measurement.station)).\\\n",
    "group_by(Measurement.station).order_by(func.count(Measurement.station).desc()).all()\n",
    "\n",
    "\n"
   ]
  },
  {
   "cell_type": "code",
   "execution_count": 17,
   "id": "c1ebdc4e-e008-44d5-bd64-be3df7aaa95b",
   "metadata": {},
   "outputs": [
    {
     "data": {
      "text/plain": [
       "('USC00519281', 2772)"
      ]
     },
     "execution_count": 17,
     "metadata": {},
     "output_type": "execute_result"
    }
   ],
   "source": [
    "# Answer the following question: which station id has the greatest number of observations?\n",
    "session.query(Measurement.station,func.count(Measurement.station)).\\\n",
    "group_by(Measurement.station).\\\n",
    "order_by(func.count(Measurement.station).desc()).first()"
   ]
  },
  {
   "cell_type": "code",
   "execution_count": 18,
   "id": "0760a99d-f763-471d-9bb8-ddbdacb032c2",
   "metadata": {},
   "outputs": [
    {
     "data": {
      "text/plain": [
       "[(54.0, 85.0, 71.66378066378067)]"
      ]
     },
     "execution_count": 18,
     "metadata": {},
     "output_type": "execute_result"
    }
   ],
   "source": [
    "# Using the most active station id from the previous query, calculate the lowest, highest, and average temperature.\n",
    "session.query(func.min(Measurement.tobs),func.max(Measurement.tobs),func.avg(Measurement.tobs)).\\\n",
    "filter(Measurement.station == 'USC00519281').all()\n"
   ]
  },
  {
   "cell_type": "code",
   "execution_count": 19,
   "id": "117fcfe1-b494-4fc7-9532-2e1411eea569",
   "metadata": {},
   "outputs": [],
   "source": [
    "#Design a query to get the previous 12 months of temperature observation (TOBS) data.\n",
    "# ** step 1 finding earliest date\n",
    "#** step 2 finding the last of last 12 month."
   ]
  },
  {
   "cell_type": "code",
   "execution_count": 20,
   "id": "b63338b0-2fe4-43bc-9be3-8a36ac46c459",
   "metadata": {},
   "outputs": [
    {
     "data": {
      "text/plain": [
       "('2017-08-18',)"
      ]
     },
     "execution_count": 20,
     "metadata": {},
     "output_type": "execute_result"
    }
   ],
   "source": [
    "#Query the previous 12 months of TOBS data for that station.\n",
    "#lets find the earlieast date using descending order for station =USC00519281\n",
    "session.query(Measurement.date).\\\n",
    "filter(Measurement.station=='USC00519281').order_by(Measurement.date.desc()).first()\n",
    "\n",
    "   "
   ]
  },
  {
   "cell_type": "code",
   "execution_count": 21,
   "id": "cd542c98-412b-453b-92d1-640f5212c194",
   "metadata": {},
   "outputs": [
    {
     "data": {
      "text/plain": [
       "datetime.date(2016, 8, 18)"
      ]
     },
     "execution_count": 21,
     "metadata": {},
     "output_type": "execute_result"
    }
   ],
   "source": [
    "#** step 2 finding the last of last 12 month using time delta\n",
    "dt.date(2017,8,18)-dt.timedelta(days=365)"
   ]
  },
  {
   "cell_type": "code",
   "execution_count": 22,
   "id": "9ca49c0f-8096-4dc4-bc74-980a73170898",
   "metadata": {},
   "outputs": [],
   "source": [
    "temp = session.query(Measurement.tobs).filter(Measurement.station=='USC00519281').filter(Measurement.date <'2017-08-18').\\\n",
    "filter(Measurement.date >= '2016-08-18').all()\n",
    "# lets convert it to normal list \n",
    "temp_list = []\n",
    "for t in temp:\n",
    "    temp_list.append(t.tobs)\n",
    "# lets convert it to normal list \n",
    "\n"
   ]
  },
  {
   "cell_type": "code",
   "execution_count": 23,
   "id": "d53fcaaf-e9e1-49c7-ac92-495c74884907",
   "metadata": {},
   "outputs": [
    {
     "data": {
      "image/png": "[encoded data removed]",
      "text/plain": [
       "<Figure size 640x480 with 1 Axes>"
      ]
     },
     "metadata": {},
     "output_type": "display_data"
    }
   ],
   "source": [
    "#Plot the results as a histogram with bins=12\n",
    "plt.style.use('fivethirtyeight')\n",
    "plt.hist(temp_list,bins=12)\n",
    "plt.xlabel(\"Temprature\")\n",
    "plt.ylabel(\"Frequency\")\n",
    "plt.legend(\"tobs\")\n",
    "\n",
    "plt.show()"
   ]
  },
  {
   "cell_type": "code",
   "execution_count": 24,
   "id": "07b32e34-21e7-4ce4-9a1b-437334c0cdbe",
   "metadata": {},
   "outputs": [],
   "source": [
    "session.close()"
   ]
  },
  {
   "cell_type": "code",
   "execution_count": null,
   "id": "c52870ef-d8f0-4186-ba30-ff34c1615e39",
   "metadata": {},
   "outputs": [],
   "source": []
  }
 ],
 "metadata": {
  "kernelspec": {
   "display_name": "Python 3 (ipykernel)",
   "language": "python",
   "name": "python3"
  },
  "language_info": {
   "codemirror_mode": {
    "name": "ipython",
    "version": 3
   },
   "file_extension": ".py",
   "mimetype": "text/x-python",
   "name": "python",
   "nbconvert_exporter": "python",
   "pygments_lexer": "ipython3",
   "version": "3.10.14"
  }
 },
 "nbformat": 4,
 "nbformat_minor": 5
}
